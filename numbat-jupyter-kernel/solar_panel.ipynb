{
 "cells": [
  {
   "attachments": {},
   "cell_type": "markdown",
   "metadata": {},
   "source": [
    "# Solar panel placement\n",
    "\n",
    "https://xkcd.com/2812/"
   ]
  },
  {
   "cell_type": "code",
   "execution_count": 1,
   "metadata": {
    "vscode": {
     "languageId": "numbat"
    }
   },
   "outputs": [],
   "source": [
    "unit $: Money\n",
    "\n",
    "let net_metering_rate = $ 0.20 / kWh\n",
    "let panel_area = 1 m²\n",
    "let panel_efficiency = 20 %\n",
    "\n",
    "fn savings(i: Irradiance) -> Money / Time =\n",
    "    net_metering_rate × i × panel_area × panel_efficiency -> $/year"
   ]
  },
  {
   "attachments": {},
   "cell_type": "markdown",
   "metadata": {},
   "source": [
    "### Option A: On the roof, south facing"
   ]
  },
  {
   "cell_type": "code",
   "execution_count": 1,
   "metadata": {
    "vscode": {
     "languageId": "numbat"
    }
   },
   "outputs": [
    {
     "data": {
      "text/html": [
       "<code>  </code><span style=\"color: #43a17e\">58</span><code> </code><span style=\"color: #0a0afe\">$/year</span>"
      ]
     },
     "execution_count": 1,
     "metadata": {},
     "output_type": "execute_result"
    }
   ],
   "source": [
    "savings(4 kWh/m²/day) // round"
   ]
  },
  {
   "attachments": {},
   "cell_type": "markdown",
   "metadata": {},
   "source": [
    "### Option B: On the sun, downward facing"
   ]
  },
  {
   "cell_type": "code",
   "execution_count": 2,
   "metadata": {
    "vscode": {
     "languageId": "numbat"
    }
   },
   "outputs": [
    {
     "data": {
      "text/html": [
       "<code>  </code><span style=\"color: #43a17e\">22039776</span><code> </code><span style=\"color: #0a0afe\">$/year</span>"
      ]
     },
     "execution_count": 2,
     "metadata": {},
     "output_type": "execute_result"
    }
   ],
   "source": [
    "dimension Luminosity = Power\n",
    "\n",
    "let sun_luminosity: Luminosity = 3.828e26 W\n",
    "let sun_area: Area = 6.09e12 km^2\n",
    "\n",
    "savings(sun_luminosity / sun_area) // round"
   ]
  }
 ],
 "metadata": {
  "kernelspec": {
   "display_name": "Numbat",
   "language": "numbat",
   "name": "numbat"
  },
  "language_info": {
   "codemirror_mode": "rust",
   "file_extension": "*.nbt",
   "mimetype": "python",
   "name": "Numbat",
   "nbconvert_exporter": "rust",
   "pygment_lexer": "python",
   "version": "0.1.0"
  }
 },
 "nbformat": 4,
 "nbformat_minor": 4
}
